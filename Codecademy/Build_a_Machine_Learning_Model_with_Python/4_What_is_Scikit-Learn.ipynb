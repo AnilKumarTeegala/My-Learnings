{
 "cells": [
  {
   "cell_type": "markdown",
   "metadata": {},
   "source": [
    "# What is Scikit-Learn?\n",
    "### Open-source ML library for Python. Built on NumPy, SciPy, and Matplotlib."
   ]
  },
  {
   "cell_type": "markdown",
   "metadata": {},
   "source": [
    "![scikit Learn](img/scikit-learn.png)"
   ]
  },
  {
   "cell_type": "markdown",
   "metadata": {},
   "source": [
    "In this course, we will learn how to construct various machine learning algorithms from scratch. In the real world, however, we don’t want to recreate a complex algorithm every time we want to use it. Writing an algorithm from scratch is a great way to understand the fundamental principles of why it works, but we may not get the efficiency or reliability we need.\n",
    "\n",
    "Scikit-learn is a library in Python that provides many unsupervised and supervised learning algorithms. It’s built upon some of the technology you might already be familiar with, like NumPy, pandas, and Matplotlib!\n",
    "\n",
    "The functionality that scikit-learn provides include:\n",
    "\n",
    "- Regression, including Linear and Logistic Regression\n",
    "- Classification, including K-Nearest Neighbors\n",
    "- Clustering, including K-Means and K-Means++\n",
    "- Model selection\n",
    "- Preprocessing, including Min-Max Normalization\n",
    "\n",
    "As you move through Codecademy’s Machine Learning content, you will become familiar with many of these terms. You will also see scikit-learn (in Python, sklearn) modules being used. For example:\n",
    "```python\n",
    "sklearn.linear_model.LinearRegression()\n",
    "```\n",
    "is a Linear Regression model inside the `linear_model` module of `sklearn`.\n",
    "\n",
    "The power of scikit-learn will greatly aid your creation of robust Machine Learning programs."
   ]
  }
 ],
 "metadata": {
  "kernelspec": {
   "display_name": "Python 3",
   "language": "python",
   "name": "python3"
  },
  "language_info": {
   "codemirror_mode": {
    "name": "ipython",
    "version": 3
   },
   "file_extension": ".py",
   "mimetype": "text/x-python",
   "name": "python",
   "nbconvert_exporter": "python",
   "pygments_lexer": "ipython3",
   "version": "3.7.3"
  }
 },
 "nbformat": 4,
 "nbformat_minor": 2
}
