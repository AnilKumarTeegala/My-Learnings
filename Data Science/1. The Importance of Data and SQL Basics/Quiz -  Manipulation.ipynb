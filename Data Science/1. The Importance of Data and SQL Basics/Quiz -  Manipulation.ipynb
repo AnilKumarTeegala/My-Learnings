{
 "cells": [
  {
   "cell_type": "markdown",
   "metadata": {},
   "source": [
    "## 1. What does the INSERT statement do?\n",
    "- Insert new columns into a table.\n",
    "- Insert a new table into a database.\n",
    "- **<span style = 'color:red'>Insert new rows into a table</span>**.\n",
    "- Fetch data from a database."
   ]
  },
  {
   "cell_type": "markdown",
   "metadata": {},
   "source": [
    "## 2. What is the purpose of the * character?\n",
    "```\n",
    "SELECT * \n",
    "FROM celebs;\n",
    "```\n",
    "\n",
    "- **<span style = 'color:red'> It selects every column in the table.</span>**\n",
    "- It only selects columns where values are not empty in the table.\n",
    "- It selects new values in the table.\n",
    "- It selects the leftmost column in the table."
   ]
  },
  {
   "cell_type": "markdown",
   "metadata": {},
   "source": [
    "## 3. Which of the following statements is correct and complete?\n",
    "\n",
    "1. > DELETE icecream <br>\n",
    "WHERE flavor NULL;\n",
    "\n",
    "2. > **<span style = 'color:red'> DELETE FROM icecream<br>\n",
    "WHERE flavor IS NULL;</span>**\n",
    "3. > WHERE flavor IS NULL <br>\n",
    "DELETE FROM icecream;\n",
    "4. >WHERE flavor IS NULL;\n"
   ]
  },
  {
   "cell_type": "markdown",
   "metadata": {},
   "source": [
    "## 4. What would be correct syntax for a CREATE TABLE statement?\n",
    "\n",
    "\n",
    "1. > **<span style='color:red'> CREATE TABLE meals (<br>\n",
    "  name TEXT, <br>\n",
    "  rating INTEGER<br>\n",
    ");</span>**\n",
    "\n",
    "2. > NEW TABLE meals (<br>\n",
    "  name TEXT, <br>\n",
    "  rating INTEGER<br>\n",
    ");\n",
    "\n",
    "3. > CREATE meals<br>\n",
    "  name TEXT<br>\n",
    "  rating INTEGER\n",
    "\n",
    "4. >CREATE meals (<br>\n",
    "  name TEXT,<br> \n",
    "  rating INTEGER<br>\n",
    ");"
   ]
  },
  {
   "cell_type": "markdown",
   "metadata": {},
   "source": [
    "## 5. What does SQL stand for?\n",
    "- **<span style = 'color:red'>Structured Query Language</span>**\n",
    "- Static Query Language\n",
    "- Standard Query Language\n",
    "- Statistical Query Language"
   ]
  },
  {
   "cell_type": "markdown",
   "metadata": {},
   "source": [
    "## 6. Which clause is used with the ALTER TABLE statement?\n",
    "- SELECT\n",
    "- JOIN\n",
    "- **<span style = 'color:red'>ADD COLUMN</span>**\n",
    "- INTO"
   ]
  },
  {
   "cell_type": "markdown",
   "metadata": {},
   "source": [
    "## 7. What would you need to complete the associated UPDATE statement?\n",
    "```\n",
    "UPDATE ________\n",
    "SET height = 6\n",
    "WHERE id = 1;\n",
    "```\n",
    "- The keyword INTO.\n",
    "- A row name.\n",
    "- **<span style = 'color:red'>A table name</span>**.\n",
    "- A column name."
   ]
  },
  {
   "cell_type": "markdown",
   "metadata": {},
   "source": [
    "## 8. What are common data types in SQL?\n",
    "- PDF, JPEG, GIF, MP3\n",
    "- id, name, age\n",
    "- **<span style = 'color:red'>Integer, Text, Date, Real</span>**\n",
    "- Row, Column"
   ]
  },
  {
   "cell_type": "markdown",
   "metadata": {},
   "source": [
    "## 9. What is a NULL value?\n",
    "- **<span style = 'color:red'>A value that represents missing or unknown data</span>**.\n",
    "- An outdated value.\n",
    "- A known value.\n",
    "- A numerical value.\n",
    "\n"
   ]
  },
  {
   "cell_type": "markdown",
   "metadata": {},
   "source": [
    "## 10. What is a relational database?\n",
    "- **<span style = 'color:red'>A database that organizes information into one or more tables</span>**.\n",
    "- A single record in a table.\n",
    "- A collection of data organized into rows and columns.\n",
    "- A set of data values of a particular type.\n",
    "\n",
    "\n"
   ]
  },
  {
   "cell_type": "code",
   "execution_count": null,
   "metadata": {},
   "outputs": [],
   "source": []
  }
 ],
 "metadata": {
  "kernelspec": {
   "display_name": "Python 3",
   "language": "python",
   "name": "python3"
  },
  "language_info": {
   "codemirror_mode": {
    "name": "ipython",
    "version": 3
   },
   "file_extension": ".py",
   "mimetype": "text/x-python",
   "name": "python",
   "nbconvert_exporter": "python",
   "pygments_lexer": "ipython3",
   "version": "3.7.3"
  }
 },
 "nbformat": 4,
 "nbformat_minor": 2
}
